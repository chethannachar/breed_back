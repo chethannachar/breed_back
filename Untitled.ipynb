{
 "cells": [
  {
   "cell_type": "code",
   "execution_count": 3,
   "id": "dad0edee-d024-487e-b258-6b0f44381522",
   "metadata": {},
   "outputs": [
    {
     "name": "stderr",
     "output_type": "stream",
     "text": [
      "WARNING:absl:Compiled the loaded model, but the compiled metrics have yet to be built. `model.compile_metrics` will be empty until you train or evaluate the model.\n"
     ]
    },
    {
     "name": "stdout",
     "output_type": "stream",
     "text": [
      "✅ Model and label encoder loaded successfully.\n",
      " * Serving Flask app '__main__'\n",
      " * Debug mode: on\n"
     ]
    },
    {
     "name": "stderr",
     "output_type": "stream",
     "text": [
      "INFO:werkzeug:\u001b[31m\u001b[1mWARNING: This is a development server. Do not use it in a production deployment. Use a production WSGI server instead.\u001b[0m\n",
      " * Running on http://127.0.0.1:5000\n",
      "INFO:werkzeug:\u001b[33mPress CTRL+C to quit\u001b[0m\n",
      "INFO:werkzeug: * Restarting with watchdog (windowsapi)\n"
     ]
    },
    {
     "ename": "SystemExit",
     "evalue": "1",
     "output_type": "error",
     "traceback": [
      "An exception has occurred, use %tb to see the full traceback.\n",
      "\u001b[1;31mSystemExit\u001b[0m\u001b[1;31m:\u001b[0m 1\n"
     ]
    }
   ],
   "source": [
    "from flask import Flask, request, jsonify\n",
    "from flask_cors import CORS\n",
    "import tensorflow as tf\n",
    "import numpy as np\n",
    "import pickle\n",
    "from PIL import Image\n",
    "from tensorflow.keras.utils import img_to_array\n",
    "\n",
    "app = Flask(__name__)\n",
    "CORS(app)\n",
    "\n",
    "MODEL_PATH = r\"C:\\Users\\ADMIN\\Downloads\\Dog_breed_model.h5\"\n",
    "ENCODER_PATH = r\"C:\\Users\\ADMIN\\Downloads\\label_encoder.pkl\"\n",
    "IMG_SIZE = (224, 224)\n",
    "\n",
    "# Load model and encoder\n",
    "try:\n",
    "    model = tf.keras.models.load_model(MODEL_PATH)\n",
    "    with open(ENCODER_PATH, \"rb\") as f:\n",
    "        label_encoder = pickle.load(f)\n",
    "    print(\"✅ Model and label encoder loaded successfully.\")\n",
    "except Exception as e:\n",
    "    print(\"❌ Error loading model or label encoder:\", str(e))\n",
    "    model = None\n",
    "    label_encoder = None\n",
    "\n",
    "@app.route('/upload', methods=['POST'])\n",
    "def upload_image():\n",
    "    if model is None or label_encoder is None:\n",
    "        return jsonify({'error': 'Model not loaded'}), 500\n",
    "\n",
    "    if 'file' not in request.files:\n",
    "        return jsonify({'error': 'No file part'}), 400\n",
    "\n",
    "    file = request.files['file']\n",
    "    if file.filename == '':\n",
    "        return jsonify({'error': 'No selected file'}), 400\n",
    "\n",
    "    try:\n",
    "        # Read image and preprocess\n",
    "        image = Image.open(file.stream).convert(\"RGB\")\n",
    "        image = image.resize(IMG_SIZE)\n",
    "        image_array = img_to_array(image) / 255.0\n",
    "        image_array = np.expand_dims(image_array, axis=0)\n",
    "\n",
    "        predictions = model.predict(image_array)\n",
    "        predicted_index = np.argmax(predictions)\n",
    "        predicted_breed = label_encoder.inverse_transform([predicted_index])[0]\n",
    "\n",
    "        return jsonify({'message': f'{predicted_breed}'})\n",
    "    \n",
    "    except Exception as e:\n",
    "        print(\"❌ Prediction error:\", str(e))\n",
    "        return jsonify({'error': 'Prediction failed: ' + str(e)}), 500\n",
    "\n",
    "if __name__ == '__main__':\n",
    "    app.run(debug=True)\n",
    "\n"
   ]
  },
  {
   "cell_type": "code",
   "execution_count": null,
   "id": "35b766df-db98-4d85-b31b-d0b90ca1fc97",
   "metadata": {},
   "outputs": [],
   "source": [
    "pip install tensorflow"
   ]
  },
  {
   "cell_type": "code",
   "execution_count": null,
   "id": "fb20357a-1f1d-4e55-961a-f9e194e23123",
   "metadata": {},
   "outputs": [],
   "source": []
  }
 ],
 "metadata": {
  "kernelspec": {
   "display_name": "Python 3 (ipykernel)",
   "language": "python",
   "name": "python3"
  },
  "language_info": {
   "codemirror_mode": {
    "name": "ipython",
    "version": 3
   },
   "file_extension": ".py",
   "mimetype": "text/x-python",
   "name": "python",
   "nbconvert_exporter": "python",
   "pygments_lexer": "ipython3",
   "version": "3.12.3"
  }
 },
 "nbformat": 4,
 "nbformat_minor": 5
}
